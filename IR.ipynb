{
  "nbformat": 4,
  "nbformat_minor": 0,
  "metadata": {
    "colab": {
      "name": "IR.ipynb",
      "provenance": [],
      "collapsed_sections": [],
      "include_colab_link": true
    },
    "kernelspec": {
      "name": "ir",
      "display_name": "R"
    }
  },
  "cells": [
    {
      "cell_type": "markdown",
      "metadata": {
        "id": "view-in-github",
        "colab_type": "text"
      },
      "source": [
        "<a href=\"https://colab.research.google.com/github/c-sung/BigDataLesson/blob/main/IR.ipynb\" target=\"_parent\"><img src=\"https://colab.research.google.com/assets/colab-badge.svg\" alt=\"Open In Colab\"/></a>"
      ]
    },
    {
      "cell_type": "code",
      "metadata": {
        "colab": {
          "base_uri": "https://localhost:8080/",
          "height": 35
        },
        "id": "3TnuEk39KjZF",
        "outputId": "1ad52589-3e69-4e19-c3a4-eb42dfa5c678"
      },
      "source": [
        "yeet = yeet\r\n",
        "yeet"
      ],
      "execution_count": 4,
      "outputs": [
        {
          "output_type": "display_data",
          "data": {
            "text/plain": [
              "[1] \"yeet\""
            ],
            "text/latex": "'yeet'",
            "text/markdown": "'yeet'",
            "text/html": [
              "'yeet'"
            ]
          },
          "metadata": {
            "tags": []
          }
        }
      ]
    }
  ]
}